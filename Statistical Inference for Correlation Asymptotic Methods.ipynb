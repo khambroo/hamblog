{
 "cells": [
  {
   "cell_type": "markdown",
   "metadata": {},
   "source": [
    "# The Hamblog\n",
    "By Kyle Hambrook"
   ]
  },
  {
   "cell_type": "raw",
   "metadata": {},
   "source": [
    "<a href=\"https://khambroo.github.io/hamblog/\">HOME</a>  "
   ]
  },
  {
   "cell_type": "markdown",
   "metadata": {},
   "source": [
    "# Statistical Inference for Correlation: Asymptotic Methods"
   ]
  },
  {
   "cell_type": "markdown",
   "metadata": {},
   "source": [
    "### I. Statistical Inference Problems for Correlation $\\rho$\n",
    "\n",
    "Let $X$ and $Y$ be random variables. We consider two statistical inference problems for the correlation $\\rho = \\rho(X,Y)$. \n",
    "\n",
    "Problem 1: Test the null hypothesis $H_0$: $\\rho = 0$ by calculating a $p$-value.\n",
    "\n",
    "Problem 2: Determine a confidence interval that contains $\\rho$ with prescribed probability.\n",
    "\n",
    "In this post, we consider asymptotic methods for these problems. "
   ]
  },
  {
   "cell_type": "markdown",
   "metadata": {},
   "source": [
    "\n",
    "\n"
   ]
  },
  {
   "cell_type": "markdown",
   "metadata": {},
   "source": [
    "### III. Asymptotic Distribution of Sample Correlation $r_n$\n",
    "\n",
    "Let $X_1,\\ldots,X_n$ and $Y_1,\\ldots,Y_n$ be random samples of $X$ and $Y$. Let $$r_n = r_n(X_1,\\ldots,X_n,Y_1,\\ldots,Y_n)$$ be the sample correlation.\n",
    "\n",
    "<strong> Theorem 1. </strong>\n",
    "Assume $E(X^4) < \\infty$, $E(Y^4) < \\infty$. Let $(X_i)_{i=1}^{\\infty} \\sim_{iid} X$ and $(Y_i)_{i=1}^{\\infty} \\sim_{iid} Y$ be infinite random samples. Then\n",
    "$$\n",
    "\\sqrt{n}(r_n-\\rho) \\rightarrow_d N_1(0,\\phi^2),\n",
    "$$\n",
    "where $\\phi$ is the positive number defined by \n",
    "$$\n",
    "\\phi^2 = \\frac{1}{4}\\rho^2( E(X_{\\ast}^4) + E(Y_{\\ast}^4) + 2E(X_{\\ast}^2 Y_{\\ast}^2) ) \n",
    "- \\rho(  E(X_{\\ast}^3 Y_{\\ast}) +  E(X_{\\ast} Y_{\\ast}^3)  )   +   E(X_{\\ast}^2 Y_{\\ast}^2),\n",
    "$$\n",
    "with $X_{\\ast} = (X - E (X))/\\sqrt{\\text{Var} (X)}$ and $Y_{\\ast} = (Y - E (Y))/\\sqrt{\\text{Var} (Y)}$.\n",
    "\n",
    "<strong> Remark. </strong> In general, the variance of the limiting distribution depends on higher moments of $(X,Y)$. However, if $\\rho = 0$, the variance of the limiting distribution is \n",
    "$$\n",
    "\\phi^2 = E(X_{\\ast}^2 Y_{\\ast}^2) \n",
    "= E(X_{\\ast}^2) E(Y_{\\ast}^2) \n",
    "= \\frac{\\text{Var}(X)}{\\text{Var}(X)} \\cdot \\frac{\\text{Var}(Y)}{\\text{Var}(Y)}\n",
    "=1\n",
    "$$"
   ]
  },
  {
   "cell_type": "markdown",
   "metadata": {},
   "source": [
    "### IV. Hypothesis Test Based on Sample Correlation $r_n$\n",
    "\n",
    "Let $r_n'$ denote an observed value (or realization) of $r_n$. Precisely, $$r_n' = r_n(X_1(\\omega'),\\ldots, X_n(\\omega'),Y_1(\\omega'),\\ldots,Y_n(\\omega'))$$ for some fixed outcome $\\omega'$ in the sample space.\n",
    "\n",
    "$H_0$ stands for the statement $\\rho = 0$. It is called the null hypothesis. \n",
    "\n",
    "Informally, the $p$-value is the probability of $r_n$ being at least as extreme as the observed value $r_n'$ assuming $H_0$ is true. What \"extreme\" means depends on the distribution of $r_n$. We give a precise defintion of the $p$-value below, but first we discuss its meaning.\n",
    "\n",
    "A small $p$-value is often interpreted as evidence against the null hypothesis $H_0$. However, let us emphasize what the $p$-value is not. It is __not__ the probability that $H_0$ is true. It is __not__ the probability of $H_0$ given the observed data. <!--It is __not__ the probability of $r_n$ being equal to the observed value assuming that $H_0$ is true.-->\n",
    "\n",
    "The following figure (borrowed from wikipedia) helps illustrate the concept of $p$-value.\n",
    "\n",
    "<img src=\"https://upload.wikimedia.org/wikipedia/commons/3/3a/P-value_in_statistical_significance_testing.svg\" alt=\"alt text\" style=\"width: 400px;\" title=\"Logo Title Text 1\">\n",
    "\n",
    "To compute the $p$-value, we need the distribution of $r_n$. We use the asymptotic approximation suggested by Theorem 1: $$r_n \\sim N(0,n) \\text{ given } H_0.$$\n",
    "\n",
    "If $r_n' > 0$, the one-sided $p$-value is\n",
    "$$\n",
    "P(r_n \\geq r_n' \\; | \\;  H_0).\n",
    "$$\n",
    "It is the area of the right-tail region under the standard normal pdf to the right of $\\sqrt{n} r_n'$ (assuming the asymptotic approximation for the distribution of $r_n$). \n",
    "\n",
    "If $r_n' < 0$, the one-sided $p$-value is\n",
    "$$\n",
    "P(r_n \\leq r_n' \\; | \\;  H_0)\n",
    "$$\n",
    "It is the area of the left-tail region under the standard normal pdf to the left of $\\sqrt{n} r_n'$ (assuming the asymptotic approximation for the distribution of $r_n$). \n",
    "\n",
    "The two-sided $p$-value is\n",
    "$$\n",
    "P(r_n \\leq -|r_n'| \\text{ or } r_n \\geq |r_n'|  \\; | \\;  H_0).\n",
    "$$ \n",
    "It is the area of the left-tail region under the standard normal pdf to the left of $-\\sqrt{n}|r_n'|$ plus the area of the right-tail region to the right of $\\sqrt{n}|r_n'|$ (assuming the asymptotic approximation for the distribution of $r_n$). \n",
    "\n",
    "For simplicity, let's focus on the one-sided $p$-value when $r_n' < 0$. For brevity, denote the $p$-value by\n",
    "$$\n",
    "p_n = P(r_n \\leq r_n' \\; | \\;  H_0).\n",
    "$$\n",
    "\n",
    "By Theorem 1, we know\n",
    "$$\n",
    "\\lim_{n \\to \\infty} p_n = \\Phi(\\sqrt{n} r_n').\n",
    "$$\n",
    "where $\\Phi$ is the standard normal cdf. The asymptotic approximation is\n",
    "$$\n",
    "p_n = \\Phi(\\sqrt{n} r_n').\n",
    "$$"
   ]
  },
  {
   "cell_type": "markdown",
   "metadata": {},
   "source": [
    "### V. Python Example 1\n",
    "\n",
    "In Python Example 1, we will test the asymptotic approximation by repeated sampling. Here are the steps:\n",
    "\n",
    "1. Choose a distribution for $(X,Y)$ with $\\rho(X,Y) = 0$ ($H_0$ true). We'll use a multi-variate normal distribution.\n",
    "2. Choose a value of $n$.  \n",
    "3. Set $\\sqrt{n}r_n' = -2$.\n",
    "4. Draw a size-$n$ sample of $(X,Y)$ and compute $r_n$. This is $r_n'$ \n",
    "5. Repeat step 4 many times. Say $N$ times in total.\n",
    "5. Record $K$ = number of times where $r_n \\leq r_n'$. \n",
    "6. Treat $K/N$ as $p_n = P(r_n \\leq r_n' \\; | \\;  H_0)$. By the law of large numbers, $K/N$ converges to $p_n$ as $N$ gets large.\n",
    "7. Repeat steps 2 to 6 several times.\n",
    "8. Plot $p_n$ vs $n$. Also draw the horizontal line for $\\Phi(\\sqrt{n}r_n') = \\Phi(-1.96) \\approx 0.025$. \n",
    "\n",
    "The plot will indicate the convergence\n",
    "$$\n",
    "p_n \\to \\Phi(\\sqrt{n} r_n')\n",
    "$$\n",
    "is fairly slow."
   ]
  },
  {
   "cell_type": "code",
   "execution_count": 25,
   "metadata": {
    "collapsed": false
   },
   "outputs": [
    {
     "name": "stdout",
     "output_type": "stream",
     "text": [
      "(X,Y) multivariate normal, true correlation rho(X,Y) =  0\n",
      "plot p-value p_n vs sample size n\n",
      "horizontal line is Phi(sqrt(n)r'_n) = \\Phi(-1.96) =  0.0249978951482\n"
     ]
    },
    {
     "data": {
      "image/png": "[encoded data removed]",
      "text/plain": [
       "<matplotlib.figure.Figure at 0x9b3f048>"
      ]
     },
     "metadata": {},
     "output_type": "display_data"
    }
   ],
   "source": [
    "%matplotlib inline\n",
    "import matplotlib.pyplot as plt\n",
    "import numpy as np\n",
    "from scipy.stats import norm\n",
    "import math\n",
    "\n",
    "def samp_corr( X,Y ):\n",
    "    #X,Y vectors length n\n",
    "    mean_X = np.mean(X)\n",
    "    mean_Y = np.mean(Y)\n",
    "    numerator = np.mean((X-mean_X)*(Y-mean_Y))\n",
    "    denominator = np.sqrt(np.mean((X-mean_X)**2) * np.mean((Y-mean_Y)**2))\n",
    "    return numerator/denominator;\n",
    "\n",
    "rho = 0\n",
    "cov = np.array( [[1,rho],[rho,1]] )\n",
    "\n",
    "pn = []\n",
    "samplesizes = [10**2,10**3,10**4,10**5,10**6,5*10**2,5*10**3,5*10**4,5*10**5,5*10**6]\n",
    "for n in samplesizes:\n",
    "    a=-1.96\n",
    "    rn_prime = a/np.sqrt(n)\n",
    "    N = 500\n",
    "    K=0.0\n",
    "    for j in xrange(1,N+1):\n",
    "        XY = np.random.multivariate_normal([0,0],cov,n)\n",
    "        X = XY[:,0]\n",
    "        Y = XY[:,1]\n",
    "        rn = samp_corr(X,Y)\n",
    "        if rn <= rn_prime:\n",
    "            K=K+1\n",
    "    pn.append(K/N)\n",
    "Phi = norm.cdf(a)\n",
    "\n",
    "print \"(X,Y) multivariate normal, true correlation rho(X,Y) = \",rho\n",
    "print \"plot p-value p_n vs sample size n\"\n",
    "print \"horizontal line is Phi(sqrt(n)r'_n) = \\Phi(-1.96) = \", Phi\n",
    "    \n",
    "fig = plt.figure()\n",
    "ax = plt.gca()\n",
    "plt.plot(samplesizes,pn,\"o\")\n",
    "plt.axhline(Phi)\n",
    "plt.ylim([0,0.05])\n",
    "ax.set_xlabel(r'$n$')\n",
    "ax.set_ylabel(r'$p_n$')\n",
    "ax.set_xscale('log')  \n",
    "        \n"
   ]
  },
  {
   "cell_type": "markdown",
   "metadata": {},
   "source": [
    "### VI. Python Example 2\n",
    "\n",
    "In Python Example 2, we will test the asymptotic approximation another way. To explain the test, first we need some theory.\n",
    "\n",
    "Remember that a random variable is just a (measurable) function from the sample space to the real numbers. The $p$-value $p_n$ can be viewed as a random variable.  To each outcome $\\omega'$ in the sample space, assign the real number\n",
    "$$\n",
    "p_n(\\omega') = P(r_n \\leq r_n' \\; | \\;  H_0)\n",
    "$$\n",
    "where $r_n' = r_n(X_1(\\omega'),\\ldots, X_n(\\omega'),Y_1(\\omega'),\\ldots,Y_n(\\omega'))$.\n",
    "\n",
    "<strong>Theorem 2. </strong>\n",
    "The $p$-value $p_n$ is uniformly distributed on $[0,1]$ under the null hypothesis: $P(p_n \\leq \\alpha \\; | \\;  H_0) = \\alpha$ for all $\\alpha \\in [0,1]$.\n",
    "\n",
    "Now fix $\\alpha \\in (0,1)$. If $p_n \\leq \\alpha$ and the null hypothesis $H_0$ is true, we say we have a Type 1 error at significance level $\\alpha$. Remember that the statement $p_n \\leq \\alpha$ is viewed as stronger evidence against the null hypothesis when $\\alpha$ is smaller. So a Type 1 error is roughly \"$p$-value says $H_0$ false but $H_0$ is actually true.\" \n",
    "\n",
    "According to Theorem 2, the probability of a Type 1 error at signifiance level $\\alpha$ is \n",
    "$$P(p_n \\leq \\alpha \\; | \\;  H_0) = \\alpha.$$ \n",
    "<!--We want to compare $P(p_n \\leq \\alpha) = \\alpha$ to $P(\\Phi(\\sqrt{n} r_n') \\leq \\alpha)$-->\n",
    "Since the asymptotic approximation is \n",
    "$$\n",
    "p_n \\to \\Phi(\\sqrt{n} r_n'), \n",
    "$$\n",
    "We want to compare $P(\\Phi(\\sqrt{n} r_n' ) \\leq \\alpha \\; | \\;  H_0)$ to $\\alpha$. Here's how will we do it:\n",
    "\n",
    "1. Choose a distribution for $(X,Y)$ with $\\rho(X,Y) = 0$ ($H_0$ true). We'll use a multi-variate normal distribution\n",
    "2. Choose $\\alpha \\in (0,1)$. \n",
    "3. Choose a value of $n$.\n",
    "4. Sample from $(X,Y)$ and compute $\\Phi( \\sqrt{n} r_n')$\n",
    "5. Repeat Step 4 $N$ times. Record $K$ = number of times $\\Phi( \\sqrt{n} r_n') \\leq \\alpha$.\n",
    "6. Treat $K / N$ as $P(\\Phi( \\sqrt{n} r_n') \\leq \\alpha \\; | \\;  H_0)$. (By the law of large numbers, $K/N$ converges to $P(\\Phi( \\sqrt{n} r_n') \\leq \\alpha \\; | \\;  H_0)$ as $N$ gets large.)\n",
    "7. Repeat 3-6 for several values of $n$. \n",
    "8. Plot $P(\\Phi( \\sqrt{n} r_n') \\leq \\alpha \\; | \\;  H_0)$ vs $n$. Also plot the horizontal line $\\alpha$ vs $n$. \n",
    "9. Repeat 2 to 8 for several values of $\\alpha$.\n",
    "\n"
   ]
  },
  {
   "cell_type": "code",
   "execution_count": 31,
   "metadata": {
    "collapsed": false
   },
   "outputs": [
    {
     "name": "stdout",
     "output_type": "stream",
     "text": [
      "(X,Y) multivariate normal, true correlation rho(X,Y) =  0\n",
      "alpha =  0.05\n",
      "plot Prob(alpha,n) = P(Phi(sqrt(n) r'_n ) <= alpha | H_0) vs sample size n\n"
     ]
    },
    {
     "data": {
      "image/png": "[encoded data removed]",
      "text/plain": [
       "<matplotlib.figure.Figure at 0x9a9e898>"
      ]
     },
     "metadata": {},
     "output_type": "display_data"
    }
   ],
   "source": [
    "%matplotlib inline\n",
    "import matplotlib.pyplot as plt\n",
    "import numpy as np\n",
    "from scipy.stats import norm\n",
    "import math\n",
    "\n",
    "def samp_corr( X,Y ):\n",
    "    #X,Y vectors length n\n",
    "    mean_X = np.mean(X)\n",
    "    mean_Y = np.mean(Y)\n",
    "    numerator = np.mean((X-mean_X)*(Y-mean_Y))\n",
    "    denominator = np.sqrt(np.mean((X-mean_X)**2) * np.mean((Y-mean_Y)**2))\n",
    "    return numerator/denominator;\n",
    "\n",
    "rho = 0\n",
    "cov = np.array( [[1,rho],[rho,1]] )\n",
    "\n",
    "\n",
    "#alphavalues = [0.01,0.05,0.1]\n",
    "alpha = 0.05\n",
    "samplesizes = [10**2,10**3,10**4,5*10**2,5*10**3,5*10**4,10**5,5*10**5]\n",
    "prob_n = []\n",
    "for n in samplesizes: \n",
    "    N=500\n",
    "    K=0.0\n",
    "    for j in xrange(1,N+1):\n",
    "        XY = np.random.multivariate_normal([0,0],cov,n)\n",
    "        X = XY[:,0]\n",
    "        Y = XY[:,1]\n",
    "        rn_prime = samp_corr(X,Y)\n",
    "        if norm.cdf(np.sqrt(n)*rn_prime) <= alpha:\n",
    "            K=K+1\n",
    "    prob_n.append(K/N)\n",
    "        \n",
    "print \"(X,Y) multivariate normal, true correlation rho(X,Y) = \",rho\n",
    "print \"alpha = \", alpha \n",
    "print \"plot P(Phi(sqrt(n) r'_n ) <= alpha | H_0) vs sample size n\"\n",
    "fig = plt.figure()\n",
    "ax = plt.gca()\n",
    "plt.plot(samplesizes,prob_n,\"o\")\n",
    "plt.axhline(alpha)\n",
    "plt.ylim([0,alpha*2])\n",
    "ax.set_xlabel(n)\n",
    "#ax.set_ylabel(\"Prob(alpha,n)\")\n",
    "ax.set_xscale('log') "
   ]
  },
  {
   "cell_type": "markdown",
   "metadata": {},
   "source": [
    "### VII. Confidence Interval Based on Sample Correlation\n",
    "\n",
    "Confidence interval. Issue because of $\\phi$. Estimate it.\n",
    "\n",
    "Let $\\theta \\in \\mathbb{R}$ be a parameter for the distribution of $X$. \n",
    "<!--Suppose $T$ is an estimator of $\\theta$.-->\n",
    "Let $I(T)$ be an interval whose endpoints are functions of $T$. \n",
    "\n",
    "$I(T)$ is called a $95\\%$ confidence interval for $\\theta$ based on $T$ if $P(\\theta \\in I(T)) \\geq 0.95$. For $\\alpha \\in (0,1)$, $I(T)$ is called a $(1-\\alpha)\\%$ confidence interval for $\\theta$ based on $T$ if $P(\\theta \\in I(T)) \\geq 1-\\alpha$. \n",
    "\n",
    "Obviously, $\\mathbb{R}$ is a $(1-\\alpha)100\\%$ confidence interval for every $\\alpha \\in (0,1)$. We usually want the smallest $(1-\\alpha)100\\%$ confidence interval possible. We also often want the confidence interval to be centered at $T$.\n",
    "\n",
    "__Remark.__ The hypothesis test for $\\rho = \\rho_0$, where $\\rho_0$ is a fixed non-zero number, has the same issue.\n",
    "\n",
    "Another solution is in the next post. Fisher transformation.\n",
    "\n",
    "Unfortunately, the $\\phi$ on the right-hand side means we can't compute this approximation. To overcome this, we will estimate \n",
    "$$\n",
    "\\phi^2 = E(X_{\\ast}^2 Y_{\\ast}^2) = E\n",
    "$$\n",
    "by \n",
    "$$\n",
    "\\widehat{\\phi^2} = \\frac{1}{n} \\sum_{i=1}^{n} \n",
    "$$"
   ]
  },
  {
   "cell_type": "raw",
   "metadata": {
    "collapsed": true
   },
   "source": [
    "<a href=\"https://khambroo.github.io/hamblog/\">HOME</a> "
   ]
  }
 ],
 "metadata": {
  "kernelspec": {
   "display_name": "Python 2",
   "language": "python",
   "name": "python2"
  },
  "language_info": {
   "codemirror_mode": {
    "name": "ipython",
    "version": 2
   },
   "file_extension": ".py",
   "mimetype": "text/x-python",
   "name": "python",
   "nbconvert_exporter": "python",
   "pygments_lexer": "ipython2",
   "version": "2.7.11"
  }
 },
 "nbformat": 4,
 "nbformat_minor": 0
}
