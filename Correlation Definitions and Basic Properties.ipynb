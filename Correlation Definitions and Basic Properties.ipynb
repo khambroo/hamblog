{
 "cells": [
  {
   "cell_type": "markdown",
   "metadata": {},
   "source": [
    "# The Hamblog\n",
    "By Kyle Hambrook"
   ]
  },
  {
   "cell_type": "raw",
   "metadata": {},
   "source": [
    "<a href=\"https://khambroo.github.io/hamblog/\">HOME</a>  "
   ]
  },
  {
   "cell_type": "markdown",
   "metadata": {},
   "source": [
    "# Correlation: Definitions and Basic Properties\n",
    "\n",
    "We will begin our journey by studying the concept of correlation. It will lead us to many important ideas in data science.\n",
    "\n",
    "Correlation is a measure of the association between two random variables. In this post, we give some basic definitions and properties."
   ]
  },
  {
   "cell_type": "markdown",
   "metadata": {},
   "source": [
    "### I. Covariance and Correlation\n",
    "\n",
    "The covariance of random variables $X$ and $Y$ is \n",
    "$$\n",
    "\\text{Cov}(X,Y) = E[(X-E X)(Y -E Y)] = E[XY] - E[X] E[Y].\n",
    "$$\n",
    "The variance of $X$ is $\\text{Var}(X) = \\text{Cov}(X,X)$. The correlation of $X$ and $Y$ is\n",
    "$$\n",
    "\\rho = \\rho(X,Y) = \\text{Corr}(X,Y) = \\frac{\\text{Cov}(X,Y)}{(\\text{Var}(X) \\text{Var}(Y))^{1/2}} = \\frac{E[(X-E X)(Y -E Y)]}{\\sqrt{ E[(X - E X)^2] E[(Y - E Y)^2] }},\n",
    "$$\n",
    "provided $\\text{Var}(X)$ and $\\text{Var}(Y)$ are positive. \n",
    "\n",
    "The Cauchy-Schwarz inequality implies $\\text{Cov}(X,Y)^2 \\leq \\text{Var}(X) \\text{Var}(Y)$, so that \n",
    "$$-1 \\leq \\rho \\leq 1.$$\n",
    "\n",
    "If $\\text{Cov}(X,Y) = 0$, then $X$ and $Y$ are called uncorrelated. If $\\text{Cov}(X,Y) > 0$, then $X$ and $Y$ are, on average, on the same side of their means (both above or both below). If $\\text{Cov}(X,Y) < 0$, then $X$ and $Y$ tend to be on opposite sides of their means on average. The same remarks apply to $\\rho = \\text{Corr}(X,Y)$."
   ]
  },
  {
   "cell_type": "markdown",
   "metadata": {},
   "source": [
    "### II. Sample Correlation \n",
    "\n",
    "Let $X$ and $Y$ be random variables. \n",
    "Let $X_1,\\ldots,X_n \\sim_{iid} X$ and $Y_1,\\ldots,Y_n \\sim_{iid} Y$. In other words, $X_1,\\ldots,X_n$ and $Y_1,\\ldots,Y_n$ are random samples from the distributions of $X$ and $Y$, respectively.\n",
    "<!--Write $\\vec{X}=(X_1,\\ldots,X_n)$ and $\\vec{Y}=(Y_1,\\ldots,Y_n)$.-->\n",
    "\n",
    "A natural estimate for $\\rho = \\rho(X,Y)$ is the sample correlation (or sample correlation coefficient) \n",
    "$$\n",
    "r = r_n = r_n(X,Y) = \\frac{\\frac{1}{n}\\sum_{i=1}^{n}[(X_i - \\overline{X})(Y_i -\\overline{Y})]}{ \\sqrt{ \\frac{1}{n}\\sum_{i=1}^{n} ( X_i - \\overline{X})^2 \\frac{1}{n}\\sum_{i=1}^{n} (Y_i - \\overline{Y})^2 } },\n",
    "$$\n",
    "where $\\overline{X} = \\frac{1}{n}\\sum_{i=1}^{n} X_i$ and $\\overline{Y} = \\frac{1}{n}\\sum_{i=1}^{n} Y_i$.\n",
    "\n",
    "\n",
    "\n",
    "\n",
    "The Cauchy-Schwarz inequality implies \n",
    "$$-1 \\leq r \\leq 1.$$\n",
    "\n",
    "\n",
    "\n",
    "The sample variance for $X$ is\n",
    "$$\n",
    "s_X^2= \\frac{1}{n-1}\\sum_{i=1}^{n} (X_i - \\overline{X})^2.\n",
    "$$\n",
    "The sample covariance for $X$ and $Y$ is\n",
    "$$\n",
    "s_{XY} = \\frac{1}{n-1}\\sum_{i=1}^{n} (X_i - \\overline{X})(Y_i - \\overline{Y}).\n",
    "$$\n",
    "\n",
    "In terms of $s_X^2$, $s_Y^2$, and $s_{XY}$ we can write\n",
    "\\begin{align*}\n",
    "r = \\frac{s_{XY}}{\\sqrt{s_X^2 s_Y^2}}.\n",
    "\\end{align*}"
   ]
  },
  {
   "cell_type": "markdown",
   "metadata": {},
   "source": [
    "### III. Correlation and Independence\n",
    "\n",
    "The correlation (and covariance) of $X$ and $Y$ is often conflated with the dependence relationship of $X$ and $Y$. This makes partial sense. If $X$ and $Y$ are independent, then $\\text{Cov}(X,Y) = 0$, hence $\\text{Corr}(X,Y)=0$. However the reverse implication is false, as we now demonstrate.\n",
    "\n",
    "If $Y=X^2$ and $E[X] = E[X^3] = 0$ (for instance if the pdf of $X$ is symmetric), then \n",
    "$$\n",
    "\\text{Cov}(X,Y) = E[XY] - E[X] E[Y] = E[X^3] - E[X] E[X^2] = 0,\n",
    "$$\n",
    "even though $X$ and $Y$ are dependent. \n",
    "\n",
    "This example illustrates how covariance and correlation can fail to detect quadratic and higher-order dependence, thus covariance and correlation are sometimes called linear covariance and linear correlation."
   ]
  },
  {
   "cell_type": "markdown",
   "metadata": {},
   "source": [
    "### IV. Python Example: Sample Correlation and Independence\n",
    "To test the relationship between correlation and independence, we'll compute the sample correlation for variables $X$ and $Y$ satisfying $Y=X^2$ and $E(X) = E(X^3) = 0$."
   ]
  },
  {
   "cell_type": "code",
   "execution_count": 1,
   "metadata": {
    "collapsed": false
   },
   "outputs": [],
   "source": [
    "#Setup\n",
    "%matplotlib inline\n",
    "import matplotlib.pyplot as plt\n",
    "import numpy as np\n",
    "\n",
    "def CorIndPlot(X):\n",
    "    Y = X**2\n",
    "    mean_X = np.mean(X)\n",
    "    mean_X3 = np.mean(X**3)\n",
    "    mean_Y = np.mean(Y)\n",
    "    #cor_x_y = np.correlate(X,Y)[0]\n",
    "    r_x_y = np.mean((X-mean_X)*(Y-mean_Y)) \n",
    "    / np.sqrt(np.mean((X-mean_X)**2) \n",
    "              * np.mean((Y-mean_Y)**2)) \n",
    "    print \"Sample Mean of X = \",mean_X\n",
    "    print \"Sample Mean of X^3 = \",mean_X3\n",
    "    print \"r(X,Y) = \",r_x_y\n",
    "    fig = plt.figure()\n",
    "    ax = fig.add_subplot(111)\n",
    "    plt.plot(X,Y,\"o\")\n",
    "    #fig.suptitle(\"X deterministic, Y=X^2\",fontsize=15)\n",
    "    ax.set_xlabel(r'$X$')\n",
    "    ax.set_ylabel(r'$Y=X^2$')\n",
    "    #ax.text(-3, 80, r'$\\overline{X} = $'+str(mean_X),fontsize=15)"
   ]
  },
  {
   "cell_type": "code",
   "execution_count": 2,
   "metadata": {
    "collapsed": false
   },
   "outputs": [
    {
     "name": "stdout",
     "output_type": "stream",
     "text": [
      "X deterministic, Y=X^2\n",
      "Sample of X =  [-10  -9  -8  -7  -6  -5  -4  -3  -2  -1   0   1   2   3   4   5   6   7\n",
      "   8   9  10]\n",
      "Sample Mean of X =  0.0\n",
      "Sample Mean of X^3 =  0.0\n",
      "r(X,Y) =  5.41365893912e-15\n"
     ]
    },
    {
     "data": {
      "image/png": "[encoded data removed]",
      "text/plain": [
       "<matplotlib.figure.Figure at 0x3a06278>"
      ]
     },
     "metadata": {},
     "output_type": "display_data"
    }
   ],
   "source": [
    "X = np.arange(-10,11,1)\n",
    "print \"X deterministic, Y=X^2\"\n",
    "print \"Sample of X = \",X\n",
    "CorIndPlot(X)"
   ]
  },
  {
   "cell_type": "code",
   "execution_count": 4,
   "metadata": {
    "collapsed": false
   },
   "outputs": [
    {
     "name": "stdout",
     "output_type": "stream",
     "text": [
      "X standard normal, Y=X^2\n",
      "Sample Size =  5000\n",
      "Sample Mean of X =  0.0166018400812\n",
      "Sample Mean of X^3 =  0.0315002951526\n",
      "r(X,Y) =  0.0147520652721\n"
     ]
    },
    {
     "data": {
      "image/png": "[encoded data removed]",
      "text/plain": [
       "<matplotlib.figure.Figure at 0x83fd588>"
      ]
     },
     "metadata": {},
     "output_type": "display_data"
    }
   ],
   "source": [
    "samplesize = 5000\n",
    "X = np.random.normal(loc = 0, scale = 1, size = samplesize)\n",
    "print \"X standard normal, Y=X^2\"\n",
    "#print \"Sample of X = \",X\n",
    "print \"Sample Size = \", samplesize\n",
    "CorIndPlot(X)"
   ]
  }
 ],
 "metadata": {
  "anaconda-cloud": {},
  "kernelspec": {
   "display_name": "Python 2",
   "language": "python",
   "name": "python2"
  },
  "language_info": {
   "codemirror_mode": {
    "name": "ipython",
    "version": 2
   },
   "file_extension": ".py",
   "mimetype": "text/x-python",
   "name": "python",
   "nbconvert_exporter": "python",
   "pygments_lexer": "ipython2",
   "version": "2.7.11"
  }
 },
 "nbformat": 4,
 "nbformat_minor": 0
}
