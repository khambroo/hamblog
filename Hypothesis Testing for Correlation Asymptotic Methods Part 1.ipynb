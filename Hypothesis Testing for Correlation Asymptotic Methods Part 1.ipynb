{
 "cells": [
  {
   "cell_type": "markdown",
   "metadata": {},
   "source": [
    "# The Hamblog\n",
    "By Kyle Hambrook"
   ]
  },
  {
   "cell_type": "raw",
   "metadata": {},
   "source": [
    "<a href=\"https://khambroo.github.io/hamblog/\">HOME</a>  "
   ]
  },
  {
   "cell_type": "markdown",
   "metadata": {},
   "source": [
    "# Hypothesis Testing for Correlation: Asymptotic Methods, Part 1."
   ]
  },
  {
   "cell_type": "markdown",
   "metadata": {},
   "source": [
    "### I. Hypothesis Test for Correlation $\\rho$\n",
    "\n",
    "\n",
    "We will consider the problem of testing whether a given hypothesis is true. In such problems, the hypothesis tested is the called null hypothesis and denoted by $H_0$.\n",
    "\n",
    "Let $X$ and $Y$ be random variables. The correlation is $\\rho = \\rho(X,Y)$. We will consider the problem of testing the null hypothesis \n",
    "$$\n",
    "H_0: \\rho = 0.\n",
    "$$\n",
    "We will do so by calculating a $p$-value. The $p$-value will be based on the sample correlation $r_n$, and we will consider asymptotic methods for calculating it."
   ]
  },
  {
   "cell_type": "markdown",
   "metadata": {},
   "source": [
    "### II. The $p$-value Based on $r_n$\n",
    "\n",
    "Let $X_1,\\ldots,X_n$ and $Y_1,\\ldots,Y_n$ be random samples of $X$ and $Y$. Let $$r_n = r_n(X_1,\\ldots,X_n,Y_1,\\ldots,Y_n)$$ be the sample correlation.\n",
    "\n",
    "Let $r_n'$ denote an observed value (or realization) of $r_n$. Precisely, $$r_n' = r_n(X_1(\\omega'),\\ldots, X_n(\\omega'),Y_1(\\omega'),\\ldots,Y_n(\\omega'))$$ for some fixed outcome $\\omega'$ in the sample space.\n",
    "\n",
    "Informally, the $p$-value is the probability of $r_n$ being at least as extreme as the observed value $r_n'$ assuming $H_0$ is true. What \"extreme\" means depends on the distribution of $r_n$. We give a precise defintion of the $p$-value below, but first we discuss its meaning.\n",
    "\n",
    "A small $p$-value is often as __evidence__ against the null hypothesis $H_0$. However, the $p$-value is __not__ the probability that $H_0$ is true, and it is __not__ the probability of $H_0$ given the observed data. <!--It is __not__ the probability of $r_n$ being equal to the observed value assuming that $H_0$ is true.-->\n",
    "\n",
    "The following figure (borrowed from wikipedia) helps illustrate the concept of $p$-value.\n",
    "\n",
    "<img src=\"https://upload.wikimedia.org/wikipedia/commons/3/3a/P-value_in_statistical_significance_testing.svg\" alt=\"alt text\" style=\"width: 400px;\" title=\"Logo Title Text 1\">\n",
    "\n",
    "If $r_n' > 0$, the one-sided $p$-value is\n",
    "$$\n",
    "P(r_n \\geq r_n' \\; | \\;  H_0).\n",
    "$$\n",
    "It is the area of the right-tail region under the standard normal pdf to the right of $\\sqrt{n} r_n'$ (assuming the asymptotic approximation for the distribution of $r_n$). \n",
    "\n",
    "If $r_n' < 0$, the one-sided $p$-value is\n",
    "$$\n",
    "P(r_n \\leq r_n' \\; | \\;  H_0)\n",
    "$$\n",
    "It is the area of the left-tail region under the standard normal pdf to the left of $\\sqrt{n} r_n'$ (assuming the asymptotic approximation for the distribution of $r_n$). \n",
    "\n",
    "The two-sided $p$-value is\n",
    "$$\n",
    "P(r_n \\leq -|r_n'| \\text{ or } r_n \\geq |r_n'|  \\; | \\;  H_0).\n",
    "$$ \n",
    "It is the area of the left-tail region under the standard normal pdf to the left of $-\\sqrt{n}|r_n'|$ plus the area of the right-tail region to the right of $\\sqrt{n}|r_n'|$ (assuming the asymptotic approximation for the distribution of $r_n$). \n",
    "\n",
    "For simplicity, we will focus on the one-sided $p$-value when $r_n' < 0$. For brevity, denote this $p$-value by\n",
    "$$\n",
    "p_n = P(r_n \\leq r_n' \\; | \\;  H_0).\n",
    "$$"
   ]
  },
  {
   "cell_type": "markdown",
   "metadata": {},
   "source": [
    "### III. Asymptotic Distribution of Sample Correlation $r_n$\n",
    "\n",
    "To compute the $p$-value\n",
    "$$\n",
    "p_n = P(r_n \\leq r_n' \\; | \\;  H_0)\n",
    "$$\n",
    "we need the distribution of $r_n$. Unfortunately, the distribution of $r_n$ is not well-understood, in general. To get around this, we will use the asymptotic distribution of $r_n$ to calculate an approximate $p$-value.\n",
    "\n",
    "The next theorem gives us the asymptotic distribution of $r_n$.\n",
    "\n",
    "***\n",
    "\n",
    "<strong> Theorem 1. </strong>\n",
    "Assume $E(X^4) < \\infty$, $E(Y^4) < \\infty$. Let $(X_i)_{i=1}^{\\infty} \\sim_{iid} X$ and $(Y_i)_{i=1}^{\\infty} \\sim_{iid} Y$ be infinite random samples. Then\n",
    "$$\n",
    "\\sqrt{n}(r_n-\\rho) \\rightarrow_d N_1(0,\\phi^2),\n",
    "$$\n",
    "where $\\phi$ is the positive number defined by \n",
    "$$\n",
    "\\phi^2 = \\frac{1}{4}\\rho^2( E(X_{\\ast}^4) + E(Y_{\\ast}^4) + 2E(X_{\\ast}^2 Y_{\\ast}^2) ) \n",
    "- \\rho(  E(X_{\\ast}^3 Y_{\\ast}) +  E(X_{\\ast} Y_{\\ast}^3)  )   +   E(X_{\\ast}^2 Y_{\\ast}^2),\n",
    "$$\n",
    "with \n",
    "$$X_{\\ast} = (X - E (X))/\\sqrt{\\text{Var} (X)} \\quad \\text{and} \\quad Y_{\\ast} = (Y - E (Y))/\\sqrt{\\text{Var} (Y)}.$$\n",
    "\n",
    "***\n",
    "\n",
    "Notice that in general the variance $\\phi^2$ of the limiting distribution depends on higher moments of $(X,Y)$. \n",
    "\n",
    "However, if the null hypothesis $H_0: \\rho = 0$ is true, the variance of the limiting distribution is \n",
    "$$\n",
    "\\phi^2 = E(X_{\\ast}^2 Y_{\\ast}^2) \n",
    "= E(X_{\\ast}^2) E(Y_{\\ast}^2) \n",
    "= \\frac{\\text{Var}(X)}{\\text{Var}(X)} \\cdot \\frac{\\text{Var}(Y)}{\\text{Var}(Y)}\n",
    "=1.\n",
    "$$\n",
    "Therefore\n",
    "$$\n",
    "\\sqrt{n}r_n \\rightarrow_d N_1(0,1) \\quad \\text{ given } H_0,\n",
    "$$\n",
    "and so\n",
    "$$\n",
    "\\lim_{n \\to \\infty} p_n = \\lim_{n \\to \\infty} P(r_n \\leq r_n' \\; | \\;  H_0) = \\Phi(\\sqrt{n} r_n'),\n",
    "$$\n",
    "where $\\Phi$ is the standard normal cumulative distribution function (cdf).\n",
    "\n",
    "The asymptotic approximation for the $p$-value is\n",
    "$$\n",
    "p_n \\approx \\Phi(\\sqrt{n} r_n').\n",
    "$$"
   ]
  },
  {
   "cell_type": "markdown",
   "metadata": {},
   "source": [
    "### V. Python Example 1. Convergence of $p$-value.\n",
    "\n",
    "In Python Example 1, we will test the asymptotic approximation by repeated sampling. \n",
    "\n",
    "Here are the steps:\n",
    "\n",
    "1. Choose a distribution for $(X,Y)$ with $\\rho(X,Y) = 0$ ($H_0$ true). We'll use a multi-variate normal distribution.\n",
    "2. Choose a value of $n$.  \n",
    "3. Assume $\\sqrt{n}r_n' = -1.64485$, where $r_n'$ is a realization of $r_n$. So $\\Phi(\\sqrt{n}r_n') \\approx 0.05$.  \n",
    "4. Draw a size-$n$ sample of $(X,Y)$ and compute $r_n$.\n",
    "5. Repeat step 4 many times. Say $N$ times in total. We'll take $N=600.$\n",
    "5. Record $K$ = number of times where $r_n \\leq r_n'$. \n",
    "6. Treat $K/N$ as $p_n = P(r_n \\leq r_n' \\; | \\;  H_0)$. By the law of large numbers, $K/N$ converges to $p_n$ as $N$ gets large.\n",
    "7. Repeat steps 2 to 6 several times.\n",
    "8. Plot $p_n$ vs $n$. Also draw the horizontal line for $\\Phi(\\sqrt{n}r_n') = \\Phi(-1.645) \\approx 0.05$. "
   ]
  },
  {
   "cell_type": "code",
   "execution_count": null,
   "metadata": {
    "collapsed": false
   },
   "outputs": [],
   "source": [
    "%matplotlib inline\n",
    "import matplotlib.pyplot as plt\n",
    "import numpy as np\n",
    "from scipy.stats import norm\n",
    "import math\n",
    "\n",
    "#np.random.seed(seed=45607)\n",
    "\n",
    "def samp_corr( X,Y ):\n",
    "    #X,Y vectors length n\n",
    "    mean_X = np.mean(X)\n",
    "    mean_Y = np.mean(Y)\n",
    "    numerator = np.mean((X-mean_X)*(Y-mean_Y))\n",
    "    denominator = np.sqrt(np.mean((X-mean_X)**2) * np.mean((Y-mean_Y)**2))\n",
    "    return numerator/denominator;\n",
    "\n",
    "rho = 0\n",
    "cov = np.array( [[1,rho],[rho,1]] )\n",
    "a=-1.644855\n",
    "N=600\n",
    "\n",
    "pn = []\n",
    "samplesizes = np.sort([10**k for k in range(2,6)] \n",
    "                      + [5*10**k for k in range(2,6)]\n",
    "                      + [2*10**k for k in range(2,5)] \n",
    "                      + [8*10**k for k in range(2,5)]\n",
    "                     ) \n",
    "#samplesizes=[10**2]\n",
    "for n in samplesizes:\n",
    "    rn_prime = a/np.sqrt(n) #sqrt(n)rn_prime = -1.645\n",
    "    K=0.0\n",
    "    for j in xrange(1,N+1):\n",
    "        XY = np.random.multivariate_normal([0,0],cov,n)\n",
    "        X = XY[:,0]\n",
    "        Y = XY[:,1]\n",
    "        rn = samp_corr(X,Y)\n",
    "        if rn <= rn_prime:\n",
    "            K=K+1\n",
    "    pn.append(K/N)\n",
    "Phi = norm.cdf(a)\n",
    "\n",
    "print \"Phi(sqrt(n)r'_n) = Phi(-1.64485) = \", Phi, \" (horizontal line)\"\n",
    "print \"(X,Y) multivariate normal, true correlation rho(X,Y) = \",rho\n",
    "print \"\"\n",
    "print \"p_n vs n\"\n",
    "\n",
    "    \n",
    "fig = plt.figure()\n",
    "ax = plt.gca()\n",
    "plt.plot(samplesizes,pn,\"o\")\n",
    "plt.axhline(Phi)\n",
    "plt.ylim([0,.10])\n",
    "ax.set_xlabel(r'$n$',fontsize=14)\n",
    "ax.set_ylabel(r'$p_n$',fontsize=14)\n",
    "ax.set_xscale('log') \n",
    "#ax.text(-3, 80, \"Phi(sqrt(n)r'_n) = Phi(-1.96) = \",fontsize=15)"
   ]
  },
  {
   "cell_type": "markdown",
   "metadata": {},
   "source": [
    "The plot indicates the convergence\n",
    "$$\n",
    "p_n \\to \\Phi(\\sqrt{n} r_n').\n",
    "$$"
   ]
  },
  {
   "cell_type": "markdown",
   "metadata": {},
   "source": [
    "### VI. Python Example 2. Probability of Type 1 Error.\n",
    "\n",
    "In Python Example 2, we will test the asymptotic approximation another way. Namely by looking at the probability of Type 1 error. To explain the test, first we need some theory.\n",
    "\n",
    "Roughly, a Type 1 error occurs when the $p$-value says reject $H_0$, but $H_0$ is actually true.\n",
    "\n",
    "Fix $\\alpha \\in (0,1)$. If $p_n \\leq \\alpha$ and the null hypothesis $H_0$ is true, we say we have a Type 1 error at significance level $\\alpha$.  For example, if $p_n \\leq 0.05$ but $H_0$ is true, we have a Type 1 error at significance level $5\\%$. Remember that the statement $p_n \\leq \\alpha$ is viewed as strong evidence against the $H_0$ when $\\alpha$ is small.\n",
    "\n",
    "Remember that a random variable is just a (measurable) function from the sample space to the real numbers. The $p$-value $p_n$ can be viewed as a random variable.  To each outcome $\\omega'$ in the sample space, assign the real number\n",
    "$$\n",
    "p_n(\\omega') = P(r_n \\leq r_n' \\; | \\;  H_0)\n",
    "$$\n",
    "where $r_n' = r_n(X_1(\\omega'),\\ldots, X_n(\\omega'),Y_1(\\omega'),\\ldots,Y_n(\\omega'))$.\n",
    "\n",
    "---\n",
    "\n",
    "<strong>Theorem 2. </strong>\n",
    "The $p$-value $p_n$ is uniformly distributed on $[0,1]$ under the null hypothesis: $P(p_n \\leq \\alpha \\; | \\;  H_0) = \\alpha$ for all $\\alpha \\in [0,1]$.\n",
    "\n",
    "---\n",
    "\n",
    "\n",
    "According to Theorem 2, the probability of a Type 1 error at signifiance level $\\alpha$ is \n",
    "$$P(p_n \\leq \\alpha \\; | \\;  H_0) = \\alpha.$$ \n",
    "<!--We want to compare $P(p_n \\leq \\alpha) = \\alpha$ to $P(\\Phi(\\sqrt{n} r_n') \\leq \\alpha)$-->\n",
    "Since the asymptotic approximation is \n",
    "$$\n",
    "p_n \\to \\Phi(\\sqrt{n} r_n'), \n",
    "$$\n",
    "we want to check whether $$P(\\Phi(\\sqrt{n} r_n' ) \\leq \\alpha \\; | \\;  H_0) \\to \\alpha.$$ \n",
    "\n",
    "Here's how will we do it:\n",
    "\n",
    "1. Choose a distribution for $(X,Y)$ with $\\rho(X,Y) = 0$ ($H_0$ true). We'll use a multi-variate normal distribution\n",
    "2. Choose $\\alpha \\in (0,1)$. We'll take $\\alpha = 0.05$. \n",
    "3. Choose a value of $n$.\n",
    "4. Sample from $(X,Y)$ and compute $\\Phi( \\sqrt{n} r_n')$\n",
    "5. Repeat Step 4 many times, say $N$ times in total. Record $K$ = number of times $\\Phi( \\sqrt{n} r_n') \\leq \\alpha$. We'll take $N=600.$\n",
    "6. Treat $K / N$ as $P(\\Phi( \\sqrt{n} r_n') \\leq \\alpha \\; | \\;  H_0)$. (By the law of large numbers, $K/N$ converges to $P(\\Phi( \\sqrt{n} r_n') \\leq \\alpha \\; | \\;  H_0)$ as $N$ gets large.)\n",
    "7. Repeat 3-6 for several values of $n$. \n",
    "8. Plot $P(\\Phi( \\sqrt{n} r_n') \\leq \\alpha \\; | \\;  H_0)$ vs $n$. Also plot the horizontal line $\\alpha$ vs $n$. \n",
    "\n"
   ]
  },
  {
   "cell_type": "code",
   "execution_count": 8,
   "metadata": {
    "collapsed": false
   },
   "outputs": [
    {
     "name": "stdout",
     "output_type": "stream",
     "text": [
      "alpha = 0.05  (horizontal line)\n",
      "(X,Y) multivariate normal, true correlation rho(X,Y) =  0\n",
      "\n",
      "P(Phi(sqrt(n) r'_n ) <= alpha | H_0) vs n\n"
     ]
    },
    {
     "data": {
      "image/png": "[encoded data removed]",
      "text/plain": [
       "<matplotlib.figure.Figure at 0x10d602690>"
      ]
     },
     "metadata": {},
     "output_type": "display_data"
    }
   ],
   "source": [
    "%matplotlib inline\n",
    "import matplotlib.pyplot as plt\n",
    "import numpy as np\n",
    "from scipy.stats import norm\n",
    "import math\n",
    "\n",
    "#np.random.seed(seed=456788)\n",
    "\n",
    "def samp_corr( X,Y ):\n",
    "    #X,Y vectors length n\n",
    "    mean_X = np.mean(X)\n",
    "    mean_Y = np.mean(Y)\n",
    "    numerator = np.mean((X-mean_X)*(Y-mean_Y))\n",
    "    denominator = np.sqrt(np.mean((X-mean_X)**2) * np.mean((Y-mean_Y)**2))\n",
    "    return numerator/denominator;\n",
    "\n",
    "rho = 0\n",
    "cov = np.array( [[1,rho],[rho,1]] )\n",
    "N=600\n",
    "\n",
    "\n",
    "#alphavalues = [0.01,0.05,0.1]\n",
    "alpha = 0.05\n",
    "samplesizes = np.sort([10**k for k in range(2,6)] \n",
    "                      + [5*10**k for k in range(2,6)]\n",
    "                      + [2*10**k for k in range(2,5)] \n",
    "                      + [8*10**k for k in range(2,5)]\n",
    "                     ) \n",
    "#samplesizes=[1000]\n",
    "prob_n = []\n",
    "for n in samplesizes: \n",
    "    K=0.0\n",
    "    for j in xrange(1,N+1):\n",
    "        XY = np.random.multivariate_normal([0,0],cov,n)\n",
    "        X = XY[:,0]\n",
    "        Y = XY[:,1]\n",
    "        rn_prime = samp_corr(X,Y)\n",
    "        if norm.cdf(np.sqrt(n)*rn_prime) <= alpha:\n",
    "            K=K+1\n",
    "    prob_n.append(K/N)\n",
    "        \n",
    "print \"alpha =\", alpha, \" (horizontal line)\" \n",
    "print \"(X,Y) multivariate normal, true correlation rho(X,Y) = \",rho\n",
    "print \"\"\n",
    "print \"P(Phi(sqrt(n) r'_n ) <= alpha | H_0) vs n\"\n",
    "fig = plt.figure()\n",
    "ax = plt.gca()\n",
    "plt.plot(samplesizes,prob_n,\"o\")\n",
    "plt.axhline(alpha)\n",
    "plt.ylim([0,alpha*2])\n",
    "ax.set_xlabel(r'$n$',fontsize=14)\n",
    "#ax.set_ylabel(\"Prob(alpha,n)\")\n",
    "ax.set_xscale('log') "
   ]
  },
  {
   "cell_type": "markdown",
   "metadata": {},
   "source": [
    "The plot indicates that \n",
    "$$\n",
    "P(\\Phi(\\sqrt{n} r_n' ) \\leq \\alpha \\; | \\;  H_0) \\approx \\alpha.\n",
    "$$\n",
    "However, the convergence \n",
    "$$\n",
    "P(\\Phi(\\sqrt{n} r_n' ) \\leq \\alpha \\; | \\;  H_0) \\to \\alpha,\n",
    "$$\n",
    "appears fairly slow."
   ]
  },
  {
   "cell_type": "raw",
   "metadata": {
    "collapsed": true
   },
   "source": [
    "<a href=\"https://khambroo.github.io/hamblog/\">HOME</a> "
   ]
  }
 ],
 "metadata": {
  "kernelspec": {
   "display_name": "Python 2",
   "language": "python",
   "name": "python2"
  },
  "language_info": {
   "codemirror_mode": {
    "name": "ipython",
    "version": 2
   },
   "file_extension": ".py",
   "mimetype": "text/x-python",
   "name": "python",
   "nbconvert_exporter": "python",
   "pygments_lexer": "ipython2",
   "version": "2.7.11"
  }
 },
 "nbformat": 4,
 "nbformat_minor": 0
}
