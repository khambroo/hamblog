{
 "cells": [
  {
   "cell_type": "markdown",
   "metadata": {},
   "source": [
    "Here is some nice writing. I can write nice looking formulas here.\n",
    "$$\n",
    "Y = A\\overline{X}+B\n",
    "$$\n"
   ]
  },
  {
   "cell_type": "code",
   "execution_count": null,
   "metadata": {
    "collapsed": true
   },
   "outputs": [],
   "source": []
  },
  {
   "cell_type": "code",
   "execution_count": 6,
   "metadata": {
    "collapsed": true
   },
   "outputs": [],
   "source": [
    "%matplotlib inline\n",
    "import matplotlib.pyplot as plt\n",
    "import numpy as np"
   ]
  },
  {
   "cell_type": "markdown",
   "metadata": {},
   "source": [
    "How about this? Can you see this Yumi?\n",
    "$$\\nabla f = 0$$"
   ]
  },
  {
   "cell_type": "code",
   "execution_count": 23,
   "metadata": {
    "collapsed": false
   },
   "outputs": [
    {
     "name": "stdout",
     "output_type": "stream",
     "text": [
      "X deterministic, Y=X^2\n",
      "Sample of X =  [-10  -9  -8  -7  -6  -5  -4  -3  -2  -1   0   1   2   3   4   5   6   7\n",
      "   8   9  10]\n",
      "Sample of Y =  [100  81  64  49  36  25  16   9   4   1   0   1   4   9  16  25  36  49\n",
      "  64  81 100]\n",
      "r'$\\overline(X) =$' 0.0 ,  $\\overline(X^3) =$ 0.0\n",
      "$r(X,Y) =$ 0"
     ]
    },
    {
     "data": {
      "text/plain": [
       "<matplotlib.text.Text at 0x9f72198>"
      ]
     },
     "execution_count": 23,
     "metadata": {},
     "output_type": "execute_result"
    },
    {
     "name": "stdout",
     "output_type": "stream",
     "text": [
      "\n"
     ]
    },
    {
     "data": {
      "image/png": "[encoded data removed]",
      "text/plain": [
       "<matplotlib.figure.Figure at 0x8256dd8>"
      ]
     },
     "metadata": {},
     "output_type": "display_data"
    }
   ],
   "source": [
    "X = np.arange(-10,11,1)\n",
    "Y = X**2\n",
    "mean_X = np.mean(X)\n",
    "mean_X3 = np.mean(X**3)\n",
    "cor_x_y = np.correlate(X,Y)[0]\n",
    "\n",
    "fig = plt.figure()\n",
    "ax = fig.add_subplot(111)\n",
    "plt.plot(X,Y,\"o\")\n",
    "#fig.suptitle('Deterministic')\n",
    "\n",
    "print \"X deterministic, Y=X^2\"\n",
    "print \"Sample of X = \",X\n",
    "print \"Sample of Y = \",Y\n",
    "print r'$\\overline(X) =$',mean_X,\", \",r'$\\overline(X^3) =$',mean_X3\n",
    "print r'$r(X,Y) =$',cor_x_y,\n",
    "\n",
    "ax.set_xlabel(r'$X$')\n",
    "ax.set_ylabel(r'$Y=X^2$')\n",
    "ax.text(-3, 80, r'$E(X) = $'+str(mean_X),fontsize=15)\n",
    "ax.text(-3, 70, r'$E(X^3) = $'+str(mean_X3),fontsize=15)\n",
    "ax.text(-3, 60, r'$Cor(X,X^2) = $'+str(cor_x_y),fontsize=15)"
   ]
  },
  {
   "cell_type": "markdown",
   "metadata": {},
   "source": [
    "\\begin{align}\n",
    "\\overline{X}\n",
    "\\end{align}"
   ]
  },
  {
   "cell_type": "code",
   "execution_count": null,
   "metadata": {
    "collapsed": true
   },
   "outputs": [],
   "source": []
  },
  {
   "cell_type": "code",
   "execution_count": null,
   "metadata": {
    "collapsed": true
   },
   "outputs": [],
   "source": []
  }
 ],
 "metadata": {
  "kernelspec": {
   "display_name": "Python [Root]",
   "language": "python",
   "name": "Python [Root]"
  },
  "language_info": {
   "codemirror_mode": {
    "name": "ipython",
    "version": 2
   },
   "file_extension": ".py",
   "mimetype": "text/x-python",
   "name": "python",
   "nbconvert_exporter": "python",
   "pygments_lexer": "ipython2",
   "version": "2.7.12"
  }
 },
 "nbformat": 4,
 "nbformat_minor": 0
}
