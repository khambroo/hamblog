{
 "cells": [
  {
   "cell_type": "markdown",
   "metadata": {},
   "source": [
    "# The Hamblog\n",
    "By Kyle Hambrook"
   ]
  },
  {
   "cell_type": "raw",
   "metadata": {},
   "source": [
    "<a href=\"https://khambroo.github.io/hamblog/\">HOME</a>  "
   ]
  },
  {
   "cell_type": "markdown",
   "metadata": {},
   "source": [
    "# Properties of Sample Correlation as an Estimator\n"
   ]
  },
  {
   "cell_type": "markdown",
   "metadata": {},
   "source": [
    "### I. Sample Correlation $r_n$ Converges to Correlation $\\rho$\n",
    "\n",
    "If the sample size $n$ is large, we would hope the sample correlation $r_n$ is close to the correlation $\\rho$. Thankfully, that's what happens:\n",
    "\n",
    "<strong> Theorem 1.</strong>\n",
    "Assume $E X$, $E Y$, $E XY$, $E X^2$, $E Y^2$ are all finite. Assume $\\text{Var} X$ and $\\text{Var} Y$ are non-zero.\n",
    "Let $(X_i)_{i=1}^{\\infty} \\sim_{iid} X$ and $(Y_i)_{i=1}^{\\infty} \\sim_{iid} Y$ be infinite random samples. Then \n",
    "$$r_n \\to \\rho \\quad \\text{in probability}.$$\n",
    "\n",
    "The conclusion means that for any $\\epsilon > 0$, the probability that $|r_n - \\rho| < \\epsilon$ approaches $1$ as $n$ approaches $\\infty$.\n",
    "\n",
    "<em>Proof.</em> \n",
    "Write\n",
    "$$\n",
    "r_n = \\frac{  \\frac{1}{n}\\sum_{i=1}^{n} X_i Y_i - \\overline{X} \\overline{Y}]}{( (\\frac{1}{n}\\sum_{i=1}^{n} X_i^2 - \\overline{X}^2) (\\frac{1}{n}\\sum_{i=1}^{n} Y_i^2 - \\overline{Y}^2)  )^{1/2}}\n",
    "$$\n",
    "By the law of large numbers, we have the following convergence in probability statements: $\\overline{X} \\rightarrow E X$, $\\overline{Y} \\rightarrow E Y$, $\\frac{1}{n}\\sum_{i=1}^{n} X_i Y_i \\rightarrow E XY$, $\\frac{1}{n}\\sum_{i=1}^{n} X_i^2 \\rightarrow E X^2$, $\\frac{1}{n}\\sum_{i=1}^{n} Y_i^2 \\rightarrow E Y^2$. Now use the continuous mapping theorem, Slutsky's theorem, \"convergence in probability implies convergence in distribution\", and \"convergence in distribution to a constant implies convergence in probability.\"  QED.\n",
    "\n",
    "We can state the conclusion of Theorem 1 by saying $r_n$ is a consistent estimator of $\\rho$. In general, an estimator $T_n$ of a parameter $\\theta$ is said to be consistent if $T_n \\to \\theta$ in probability as $n \\to \\infty$. "
   ]
  },
  {
   "cell_type": "markdown",
   "metadata": {},
   "source": [
    "### II. Python Example 1: Sample Correlation $r_n$ Converges to Correlation $\\rho$"
   ]
  },
  {
   "cell_type": "code",
   "execution_count": 1,
   "metadata": {
    "collapsed": false
   },
   "outputs": [
    {
     "name": "stdout",
     "output_type": "stream",
     "text": [
      "(X,Y) multivariate normal, true correlation rho(X,Y) =  0.5\n",
      "plot r_n(X,Y) = sample correlation vs n = sample size\n"
     ]
    },
    {
     "data": {
      "image/png": "[encoded data removed]",
      "text/plain": [
       "<matplotlib.figure.Figure at 0x1095cde50>"
      ]
     },
     "metadata": {},
     "output_type": "display_data"
    }
   ],
   "source": [
    "%matplotlib inline\n",
    "import matplotlib.pyplot as plt\n",
    "import numpy as np\n",
    "\n",
    "def samp_corr( X,Y ):\n",
    "    #X,Y vectors length n\n",
    "    mean_X = np.mean(X)\n",
    "    mean_Y = np.mean(Y)\n",
    "    numerator = np.mean((X-mean_X)*(Y-mean_Y))\n",
    "    denominator = np.sqrt(np.mean((X-mean_X)**2) * np.mean((Y-mean_Y)**2))\n",
    "    return numerator/denominator;\n",
    "\n",
    "samplesizes = []\n",
    "for k in range(2,7):\n",
    "    samplesizes.append(10**k)\n",
    "    samplesizes.append(2*10**k)\n",
    "    samplesizes.append(5*10**k)\n",
    "    samplesizes.append(8*10**k)\n",
    "rho = 0.5\n",
    "cov = np.array( [[1,rho],[rho,1]] )\n",
    "\n",
    "r_n = []    \n",
    "for n in samplesizes:\n",
    "    XY = np.random.multivariate_normal([0,0],cov,n)\n",
    "    X = XY[:,0]\n",
    "    Y = XY[:,1]\n",
    "    r_x_y = samp_corr(X,Y)\n",
    "    r_n.append(r_x_y)\n",
    "\n",
    "print \"(X,Y) multivariate normal, true correlation rho(X,Y) = \",rho\n",
    "print \"plot r_n(X,Y) = sample correlation vs n = sample size\"\n",
    "    \n",
    "#from matplotlib import pyplot\n",
    "fig = plt.figure()\n",
    "ax = plt.gca()\n",
    "plt.plot(samplesizes,r_n,\"o\")\n",
    "plt.axhline(rho)\n",
    "plt.ylim([0.42,0.58])\n",
    "ax.set_xlabel(r'$n$')\n",
    "ax.set_ylabel(r'$r_n(X,Y)$')\n",
    "\n",
    "#ax.scatter(data['o_value'] ,data['time_diff_day'] , c='blue', alpha=0.05, edgecolors='none')\n",
    "ax.set_xscale('log')    "
   ]
  },
  {
   "cell_type": "markdown",
   "metadata": {},
   "source": [
    "### III. Expected Sample Correlation $E(r_n)$ Converges to Correlation $\\rho$"
   ]
  },
  {
   "cell_type": "markdown",
   "metadata": {},
   "source": [
    "<strong> Corollary of Theorem 1. </strong>\n",
    "Under the hypothesis of Theorem 1, we have\n",
    "$$E(r_n) \\rightarrow \\rho.$$\n",
    "\n",
    "<em> Proof. </em>\n",
    "Theorem 1 gives $r_n \\to \\rho$ in probability. Since $|r_n| \\leq 1$, the dominated convergence theorem can be applied to give $E r_n \\rightarrow \\rho$. QED.\n",
    "\n",
    "We can state the conclusion $E(r_n) \\rightarrow \\rho$ by saying $r_n$ is an asymptotically unbiased estimator of $\\rho$. In general, an estimator $T_n$ of a parameter $\\theta$ is said to be asymptotically unbiased if $E (T_n) \\to \\theta$ as $n \\to \\infty$. \n",
    "\n",
    "We have defined asymptotically unbiased before defining unbiased. We rectify this now. \n",
    "\n",
    "An estimator $T_n$ of a parameter $\\theta$ is said to be unbiased if $E (T_n) = \\theta$, otherwise it is called biased. \n",
    "\n",
    "<!--It is natural to want our estimators to be unbiased.--> \n",
    "\n",
    "The sample mean is an unbiased estimator of the mean. Given $X_1,\\ldots,X_n \\sim_\\text{iid} X$, \n",
    "$$\n",
    "E\\left(\\overline{X}\\right) = E\\left( \\frac{1}{n} \\sum_{i=1}^{n} X_i \\right) = \\frac{1}{n} \\sum_{i=1}^{n} E( X_i ) = \\frac{1}{n} \\sum_{i=1}^{n} E( X ) = E(X).\n",
    "$$\n",
    "\n",
    "As we have defined it, the sample variance $S_X^2 = \\frac{1}{n-1} \\sum_{i=1}^{n} (X_i - \\overline{X})^2$ is an unbiased estimator of $\\sigma^2 = \\text{Var}(X)$. It may seem more natural to define the sample variance as $\\frac{1}{n} \\sum_{i=1}^{n} (X_i - \\overline{X})^2$, but this is not an unbiased estimator of $\\sigma^2 = \\text{Var}(X)$. The proof of these assertions is symbol pushing. \n",
    "See <a href=\"http://isites.harvard.edu/fs/docs/icb.topic515975.files/Proof%20that%20Sample%20Variance%20is%20Unbiased.pdf\">here</a>.\n",
    "\n",
    "The sample correlation $r_n$ is a biased estimator of the correlation $\\rho$. In fact, \n",
    "$$\n",
    "E(r_n) = \\rho - \\frac{\\rho(1-\\rho^2)}{2n} + \\text{O}\\left(\\frac{\\rho}{n^2}\\right). \n",
    "$$\n",
    "The proof takes some work. See, for example, the book of Stuart and Ord (1987, Section 16.32) or the orginal paper of Fisher (1915)."
   ]
  },
  {
   "cell_type": "markdown",
   "metadata": {},
   "source": [
    "### IV. Python Example 2: Expected Sample Correlation $E(r_n)$ Converges to Correlation $\\rho$"
   ]
  },
  {
   "cell_type": "code",
   "execution_count": 4,
   "metadata": {
    "collapsed": false
   },
   "outputs": [
    {
     "name": "stdout",
     "output_type": "stream",
     "text": [
      "(X,Y) multivariate normal, true correlation rho(X,Y) =  0.5\n",
      "plot E(r_n(X,Y)) = expected sample correlation vs n = sample size\n"
     ]
    },
    {
     "data": {
      "image/png": "[encoded data removed]",
      "text/plain": [
       "<matplotlib.figure.Figure at 0x702acf8>"
      ]
     },
     "metadata": {},
     "output_type": "display_data"
    }
   ],
   "source": [
    "%matplotlib inline\n",
    "import matplotlib.pyplot as plt\n",
    "import numpy as np\n",
    "\n",
    "samplesizes = []\n",
    "for k in range(2,6):\n",
    "    samplesizes.append(10**k)\n",
    "    samplesizes.append(2*10**k)\n",
    "    samplesizes.append(5*10**k)\n",
    "    samplesizes.append(8*10**k)\n",
    "    \n",
    "rho = 0.5\n",
    "cov = np.array( [[1,rho],[rho,1]] )\n",
    "K = 500 #repeated sample size\n",
    "E_r_n = []  \n",
    "\n",
    "#Fix n in samplesize. \n",
    "#We generate a sample of (X,Y) of size n \n",
    "#and compute the sample correlation r_n(X,Y).\n",
    "#We do this K times for the fixed n.\n",
    "#We end up with K values for r_n(X,Y)\n",
    "#The mean of these K values is viewed \n",
    "#as the expectation of r_n(X,Y).\n",
    "#We call it E_*(r_n(X,Y))\n",
    "#It is not actually equal to E(r_n(X,Y)),\n",
    "#but it converges to E(r_n(X,Y)) as K gets large,\n",
    "#by the law of large numbers\n",
    "\n",
    "\n",
    "for n in samplesizes:\n",
    "    for k in xrange(1,K+1):\n",
    "        r_n = []\n",
    "        XY = np.random.multivariate_normal([0,0],cov,n)\n",
    "        X = XY[:,0]\n",
    "        Y = XY[:,1]\n",
    "        mean_X = np.mean(X)\n",
    "        mean_Y = np.mean(Y)\n",
    "        r_x_y = np.mean((X-mean_X)*(Y-mean_Y)) \n",
    "        / np.sqrt(np.mean((X-mean_X)**2) \n",
    "                  * np.mean((Y-mean_Y)**2)) \n",
    "        r_n.append(r_x_y)\n",
    "    E_r_n.append(np.mean(r_n))\n",
    "        \n",
    "print \"(X,Y) multivariate normal, true correlation rho(X,Y) = \",rho\n",
    "print \"plot E(r_n(X,Y)) = expected sample correlation vs n = sample size\"\n",
    "    \n",
    "#from matplotlib import pyplot\n",
    "fig = plt.figure()\n",
    "ax = plt.gca()\n",
    "plt.plot(samplesizes,E_r_n,\"o\")\n",
    "plt.axhline(rho)\n",
    "plt.ylim([0.42,0.58])\n",
    "ax.set_xlabel(r'$n$')\n",
    "ax.set_ylabel(r'$E(r_n(X,Y))$')\n",
    "\n",
    "#ax.scatter(data['o_value'] ,data['time_diff_day'] , \n",
    "#c='blue', alpha=0.05, edgecolors='none')\n",
    "ax.set_xscale('log')    "
   ]
  },
  {
   "cell_type": "markdown",
   "metadata": {},
   "source": [
    "### V. Remark on Python Example 2"
   ]
  },
  {
   "cell_type": "markdown",
   "metadata": {},
   "source": [
    "We didn't actually compute $E(r_n)$. Instead we computed $E_*(r_n)$. The explanation follows.\n",
    "\n",
    "Let the sample size $n$ be fixed. We generate a sample of $(X,Y)$ of size $n$ and compute the sample correlation $r_n(X,Y)$. We do this $K$ times for the fixed sample size $n$. We end up with $K$ values for $r_n(X,Y)$. The mean of these $K$ values is $E_*(r_n(X,Y))$. It is not actually equal to $E(r_n(X,Y))$, but it converges to $E(r_n(X,Y))$ as $K$ gets large, according to the law of large numbers. We take $K$ as large as possible such that the calcuation time is reasonable. In a later post, we will return to the problem of how large to take $K$.\n",
    "\n",
    "This is an example of Monte Carlo simulation."
   ]
  },
  {
   "cell_type": "markdown",
   "metadata": {},
   "source": [
    "### VI. Appendix: Formal Definitions"
   ]
  },
  {
   "cell_type": "markdown",
   "metadata": {},
   "source": [
    "We have used the concepts of estimators and parameters without formally defining them. This is because most users of statistics have reasonably good working defintions for these concepts. For completeness, we give formal definitions here. We also give formal definitions for a few other concepts.\n",
    "\n",
    "A random vector $X = (X_1,\\ldots,X_k)$ is a tuple whose components are random variables. \n",
    "\n",
    "Let $X$ be a random vector. \n",
    "\n",
    "If $X_1,\\ldots,X_n \\sim_{iid} X$ (that is, $X_1,\\ldots, X_n$ are independent and all have the same distribution as $X$), then we say $X_1,\\ldots,X_n$ is a random sample of $X$. An infinite sequence $(X_i)_{i=1}^{\\infty} \\sim_{iid} X$ is an infinite random sample of $X$.\n",
    "\n",
    "If $T_n = f(X_1,\\ldots,X_n)$ for some random sample $X_1,\\ldots,X_n$ of $X$ and some Borel function $f:\\mathbb{R}^n \\rightarrow \\mathbb{R}^m$, then $T_n$ is called a statistic.\n",
    "\n",
    "Let $\\mathcal{P}$ be a collection of probability distributions. Let $g:\\mathcal{P} \\rightarrow \\mathbb{R}^m$. For $P \\in \\mathcal{P}$, the value $\\theta = g(P)$ is called a parameter of the distribution $P$. If $g$ is a one-to-one function, then we write $\\Theta = g(\\mathcal{P})$ and $\\mathcal{P} = \\{P_{\\theta} : \\theta \\in \\Theta\\}$, and we call $\\Theta$ the parameter space and $\\mathcal{P}$ a parametric family. \n",
    "\n",
    "If $\\mathcal{P}$ consists of all uni-variate normal distributions, then the mean $\\mu$ and the variance $\\sigma^2$ are parameters. The pair $(\\mu,\\sigma^2)$ is also a parameter and \n",
    "$\\mathcal{P} = \\{ N(\\mu,\\sigma^2) : (\\mu,\\sigma^2) \\in \\mathbb{R} \\times (0,\\infty)\\}$\n",
    "is a parametric family.\n",
    "\n",
    "A statistic $T_n$ is called an estimator of a parameter $\\theta$ if $T_n$ approximates $\\theta$ in some sense. The concept of estimator does not have a more formal defintion."
   ]
  }
 ],
 "metadata": {
  "kernelspec": {
   "display_name": "Python 2",
   "language": "python",
   "name": "python2"
  },
  "language_info": {
   "codemirror_mode": {
    "name": "ipython",
    "version": 2
   },
   "file_extension": ".py",
   "mimetype": "text/x-python",
   "name": "python",
   "nbconvert_exporter": "python",
   "pygments_lexer": "ipython2",
   "version": "2.7.11"
  }
 },
 "nbformat": 4,
 "nbformat_minor": 0
}
