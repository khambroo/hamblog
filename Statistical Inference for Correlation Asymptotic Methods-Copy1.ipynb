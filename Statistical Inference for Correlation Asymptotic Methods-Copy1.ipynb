{
 "cells": [
  {
   "cell_type": "markdown",
   "metadata": {},
   "source": [
    "# The Hamblog\n",
    "By Kyle Hambrook"
   ]
  },
  {
   "cell_type": "raw",
   "metadata": {},
   "source": [
    "<a href=\"https://khambroo.github.io/hamblog/\">HOME</a>  "
   ]
  },
  {
   "cell_type": "markdown",
   "metadata": {},
   "source": [
    "# Statistical Inference for Correlation: Asymptotic Methods"
   ]
  },
  {
   "cell_type": "markdown",
   "metadata": {},
   "source": [
    "### I. Statistical Inference Problems for Correlation $\\rho$\n",
    "\n",
    "Let $X$ and $Y$ be random variables. We consider two statistical inference problems for the correlation $\\rho = \\rho(X,Y)$. \n",
    "\n",
    "Problem 1: Test the hypothesis $H_0$: $\\rho = 0$ by calculating a $p$-value.\n",
    "\n",
    "Problem 2: Determine a confidence interval that contains $\\rho$ with prescribed probability.\n",
    "\n",
    "In this post, our approach to these problems relies on statistics whose asymptotic distributions are known."
   ]
  },
  {
   "cell_type": "markdown",
   "metadata": {},
   "source": [
    "### II. $p$-Value and Confidence Interval\n",
    "\n",
    "We briefly describe the concepts of $p$-value and confidence interval. \n",
    "\n",
    "Let $X_1,\\ldots,X_n$ be a random sample of a random variable $X$. Let $T = T(X_1,\\ldots,X_n)$ be a real-valued statistic. (The generalization to vector-valued statistics is straightforward.) Let $T(\\omega_0) = T(X_1(\\omega_0),\\ldots,X_n(\\omega_0))$ be an observed value (or realization) of $T$. \n",
    "\n",
    "Let $H_0$ be a hypothesis about a parameter of $X$. For example, $H_0$ : $E(X) = 10$. As another example, $H_0$ : median of $X$ is $0$. $H_0$ will be called the null hypothesis.\n",
    "\n",
    "The $p$-value of $T$ given $H_0$ is the probability of $T$ being at least as extreme as observed given that $H_0$ is true. It is __not__ the probability that $H_0$ is true. It is __not__ the probability of $H_0$ given the observed data. It is __not__ even the probability of $T$ being equal to the observed value given that $H_0$ is true.\n",
    "\n",
    "What the word \"extreme\" means depends on the distribution of $T$ under the hypothesis $H_0$. \n",
    "\n",
    "__Example 1.__ Suppose the distribution of $T | H_0$ is $N(0,1)$ or some other bell-shaped distribution symmetric about $0$. Then observations in regions far from $0$ are less likely than observations in regions near $0$. The two-sided (or two-tailed) $p$-value of $T$ given $H_0$ is\n",
    "$$\n",
    "P(T \\leq -|T(\\omega_0)| \\text{ or } T \\geq |T(\\omega_0)| \\,|\\, H_0) = 1 - P(-|T(\\omega_0)| \\leq T \\leq |T(\\omega_0)|).\n",
    "$$\n",
    "<!--This is called a two-sided (or two-tailed) $p$-value.-->\n",
    "We could also consider a one-sided $p$-value defined as\n",
    "$$\n",
    "P(T \\geq T(\\omega_0) \\, | \\, H_0) \\quad \\text{if } T(\\omega_0) > 0\n",
    "$$\n",
    "and\n",
    "$$\n",
    "P(T \\leq T(\\omega_0) \\, | \\, H_0) \\quad \\text{if } T(\\omega_0) < 0.\n",
    "$$\n",
    "\n",
    "__Example 2.__ Suppose $T | H_0$ has exponential distribution. Then $P(T < 0 \\,|\\, H_0) = 0$ and observations in regions far to right of zero are less likely than observations in regions near and to the right of zero. So the $p$-value of $T$ given $H_0$ is \n",
    "$$\n",
    "P(T \\geq T(\\omega_0) \\, | \\, H_0).\n",
    "$$\n",
    "Notice that it is one-sided.\n",
    "\n",
    "__Example 3.__ Suppose $T | H_0$ is distributed as the sum of many exponential distributions. (The chi-squared distribution is a distribution of this type.) Draw a picture. The $p$-value is harder to define.\n",
    "\n",
    "Let $p_0 \\in (0,1)$. Suppose we have a rule to reject the null hypothesis $H_0$ : $\\rho = 0$ if the $p$-value is less than $p_0$. Taking $p_0 = 0.95 = 95\\%$ is common. p_0 is called the confidence level and $1 - p_0$ is called the significance level.\n",
    "\n",
    "If we reject $H_0$ (i.e., $p$-value is $< p_0$) and $H_0$ is true, this is called a Type 1 error (or false positive). \n",
    "\n",
    "If we don't reject $H_0$ (i.e., $p$-value is $\\geq p_0$) and $H_0$ is false, this is called a Type 2 error (or false negative)\n",
    "\n",
    "Let $\\theta \\in \\mathbb{R}$ be a parameter for the distribution of $X$. \n",
    "<!--Suppose $T$ is an estimator of $\\theta$.-->\n",
    "Let $I(T)$ be an interval whose endpoints are functions of $T$. \n",
    "\n",
    "$I(T)$ is called a $95\\%$ confidence interval for $\\theta$ based on $T$ if $P(\\theta \\in I(T)) \\geq 0.95$. Let $\\alpha \\in (0,1)$. $I(T)$ is called a $(1-\\alpha)\\%$ confidence interval for $\\theta$ based on $T$ if $P(\\theta \\in I(T)) \\geq 1-\\alpha$. \n",
    "\n",
    "Obviously, $\\mathbb{R}$ is a $(1-\\alpha)100\\%$ confidence interval for every $\\alpha \\in (0,1)$. We usually want the smallest $(1-\\alpha)100\\%$ confidence interval possible. We also often want the confidence interval to be centered at $T$."
   ]
  },
  {
   "cell_type": "markdown",
   "metadata": {},
   "source": [
    "### III. Asymptotic Distribution of Sample Correlation $r_n$\n",
    "\n",
    "<strong> Theorem A. </strong>\n",
    "Assume $E(X^4) < \\infty$, $E(Y^4) < \\infty$. Let $(X_i)_{i=1}^{\\infty} \\sim_{iid} X$ and $(Y_i)_{i=1}^{\\infty} \\sim_{iid} Y$ be infinite random samples. Then\n",
    "$$\n",
    "\\sqrt{n}(r_n-\\rho) \\rightarrow_d N_1(0,\\phi^2),\n",
    "$$\n",
    "where $\\phi$ is the positive number defined by \n",
    "$$\n",
    "\\phi^2 = \\frac{1}{4}\\rho^2( E(X_{\\ast}^4) + E(Y_{\\ast}^4) + 2E(X_{\\ast}^2 Y_{\\ast}^2) ) \n",
    "- \\rho(  E(X_{\\ast}^3 Y_{\\ast}) +  E(X_{\\ast} Y_{\\ast}^3)  )   +   E(X_{\\ast}^2 Y_{\\ast}^2),\n",
    "$$\n",
    "with $X_{\\ast} = (X - E (X))/\\sqrt{\\text{Var} (X)}$ and $Y_{\\ast} = (Y - E (Y))/\\sqrt{\\text{Var} (Y)}$.\n",
    "\n",
    "<strong> Remark. </strong> In general, the variance of the limiting distribution depends on higher moments of $(X,Y)$. However, if $\\rho = 0$, the variance of the limiting distribution is \n",
    "$$\n",
    "\\phi^2 = E(X_{\\ast}^2 Y_{\\ast}^2) \n",
    "= E(X_{\\ast}^2) E(Y_{\\ast}^2) \n",
    "= \\frac{\\text{Var}(X)}{\\text{Var}(X)} \\cdot \\frac{\\text{Var}(Y)}{\\text{Var}(Y)}\n",
    "=1\n",
    "$$\n",
    "\n",
    "<em> Proof of Theorem A. </em>\n",
    "By Holder's inequality, $E (X^4) < \\infty$, $E (Y^4) < \\infty$ implies $E |X^i Y^j| < \\infty$ whenever $i + j \\leq 4$.\n",
    "Define $$W = (X_{\\ast},Y_{\\ast},X_{\\ast}^2,Y_{\\ast}^2,X_{\\ast}Y_{\\ast}).$$\n",
    "Let $W_1,\\ldots,W_n \\sim_{\\text{iid}} W$. \n",
    "<!--So $W_i = (X_{i \\ast},Y_{i\\ast},X_{i\\ast}^2,Y_{i \\ast}^2,X_{i\\ast}Y_{i\\ast})$. -->\n",
    "Then $\\overline{W} = \\frac{1}{n} \\sum_{i=1}^{n} W_i$ and $\\mu_0 = E(W) = (0,0,1,1,\\rho)$. By the central limit theorem, \n",
    "$$\n",
    "\\sqrt{n}(\\overline{W} - \\mu_0) \\rightarrow_d N_5(0,\\Sigma).\n",
    "$$\n",
    "where $\\Sigma$ is the covariance matrix for the random vector $W$.\n",
    "Define \n",
    "$$\n",
    "g(x_1,\\ldots,x_5) = \\frac{x_5 - x_1 x_2}{\\sqrt{(x_3 - x_1^2)(x_4 - x_2^2)}}.\n",
    "$$\n",
    "Then $g(\\overline{W}) = r$, $g(\\mu_0) = \\rho$, $\\nabla g(\\mu_0) = (0,0,-\\rho/2,-\\rho/2,1)$, $\\nabla g(\\mu_0) \\Sigma (\\nabla g(\\mu_0))^T = \\phi^2$. \n",
    "Conclude via the delta method (see appendix). QED."
   ]
  },
  {
   "cell_type": "markdown",
   "metadata": {},
   "source": [
    "### IV. Hypothesis Test Based on Sample Correlation $r_n$\n",
    "Let $X_1,\\ldots,X_n$ and $Y_1,\\ldots,Y_n$ be random samples of $X$ and $Y$. \n",
    "\n",
    "<!--Let $X_i(\\omega_0)$ and $Y_i(\\omega)$ be the observed values (or realizations) of $X_i$ and $Y_i$. -->\n",
    "\n",
    "Let $r_n(\\omega_0) = r_n(X_1(\\omega_0),\\ldots, X_n(\\omega_0),Y_1(\\omega_0),\\ldots,Y_n(\\omega_0))$ be the observed value of $r_n = r_n(X_1,\\ldots,X_n,Y_1,\\ldots,Y_n)$. \n",
    "\n",
    "<!--Write $c = r_n(\\omega_0)$ for brevity.-->\n",
    "\n",
    "The null hypothesis is $H_0$ : $\\rho = 0$.\n",
    "\n",
    "The two-sided $p$-value of $r_n$ for $H_0$ is \n",
    "$$\n",
    "P( r_n \\geq |r_n(\\omega_0)| \\text{ or } r_n \\leq -|r_n(\\omega_0)| \\, | \\, \\rho = 0 ) = 1 - P( -|r_n(\\omega_0)| \\leq r_n \\leq |r_n(\\omega_0)| \\,|\\, \\rho = 0 ).\n",
    "$$\n",
    "For brevity, we denote this $p$-value by $p_n$. \n",
    "\n",
    "<!--If $r_n(\\omega_0) > 0$, the one-sided $p$-value of $r_n$ given $H_0$ is $P( r_n \\geq r_n(\\omega_0) \\, | \\, \\rho = 0 )$. If $r_n(\\omega_0) < 0$, the one-sided $p$-value is $P( r_n \\leq r_n(\\omega_0) \\, | \\, \\rho = 0 )$.-->\n",
    "\n",
    "<!--We will work with the two-sided $p$-value. -->\n",
    "\n",
    "Since we don't know the distribution of $r_n$, we can't compute $p_n$. However by Theorem A we know \n",
    "$$\n",
    "\\lim_{n \\rightarrow \\infty} p_n = 2 - 2\\Phi(\\sqrt{n}|r_n(\\omega_0)|)\n",
    "$$\n",
    "So we use the asymptotic approximation \n",
    "$$\n",
    "p_n \\approx 2 - 2\\Phi(\\sqrt{n}|r_n(\\omega_0)|).\n",
    "$$\n",
    "Notice that we have used $\\rho = 0$ and its consequence $\\phi^2 = 1$. \n",
    "\n",
    "In Python Example 1, we will test the asymptotic approximation by repeated sampling.\n",
    "\n",
    "Let $\\alpha \\in (0,1)$ be the significance level, so $1-\\alpha$ is the confidence level. We have a Type 1 error when $p_n < 1-\\alpha$ and $\\rho = 0$. If $\\rho = 0$, the probability that an arbitrary sample will give a Type 1 error is $5\\%$.???? Is that true????\n",
    "\n",
    "\n",
    "We have a Type 2 error when $p_n \\geq 1-\\alpha$ and $\\rho \\neq 0$. In Python Example 2, we will test the asymptotic approximation another way by \n",
    "\n",
    "\n",
    "\n",
    "\n",
    "\n",
    "\n",
    "\n",
    "\n",
    "\n",
    "\n",
    "\n"
   ]
  },
  {
   "cell_type": "markdown",
   "metadata": {},
   "source": [
    "### V. Confidence Interval Based on Sample Correlation\n",
    "\n",
    "Confidence interval. Issue because of $\\phi$. Estimate it.\n",
    "\n",
    "__Remark.__ The hypothesis test for $\\rho = \\rho_0$, where $\\rho_0$ is a fixed non-zero number, has the same issue.\n",
    "\n",
    "Another solution is in the next post. Fisher transformation.\n",
    "\n",
    "Unfortunately, the $\\phi$ on the right-hand side means we can't compute this approximation. To overcome this, we will estimate \n",
    "$$\n",
    "\\phi^2 = E(X_{\\ast}^2 Y_{\\ast}^2) = E\n",
    "$$\n",
    "by \n",
    "$$\n",
    "\\widehat{\\phi^2} = \\frac{1}{n} \\sum_{i=1}^{n} \n",
    "$$"
   ]
  },
  {
   "cell_type": "code",
   "execution_count": 22,
   "metadata": {
    "collapsed": false
   },
   "outputs": [
    {
     "name": "stdout",
     "output_type": "stream",
     "text": [
      "(X,Y) multivariate normal, true correlation rho(X,Y) =  0.5\n",
      "plot r(X,Y) = sample correlation vs n = sample size\n"
     ]
    },
    {
     "data": {
      "image/png": "[encoded data removed]",
      "text/plain": [
       "<matplotlib.figure.Figure at 0x10ab50d10>"
      ]
     },
     "metadata": {},
     "output_type": "display_data"
    }
   ],
   "source": [
    "%matplotlib inline\n",
    "import matplotlib.pyplot as plt\n",
    "import numpy as np\n",
    "\n",
    "samplesizes = []\n",
    "for k in range(2,7):\n",
    "    samplesizes.append(10**k)\n",
    "    samplesizes.append(2*10**k)\n",
    "    samplesizes.append(5*10**k)\n",
    "    samplesizes.append(8*10**k)\n",
    "rho = 0.5\n",
    "cov = np.array( [[1,rho],[rho,1]] )\n",
    "\n",
    "r_n = []    \n",
    "for n in samplesizes:\n",
    "    XY = np.random.multivariate_normal([0,0],cov,n)\n",
    "    X = XY[:,0]\n",
    "    Y = XY[:,1]\n",
    "    mean_X = np.mean(X)\n",
    "    mean_Y = np.mean(Y)\n",
    "    r_x_y = np.mean((X-mean_X)*(Y-mean_Y)) / np.sqrt(np.mean((X-mean_X)**2) * np.mean((Y-mean_Y)**2)) \n",
    "    r_n.append(r_x_y)\n",
    "\n",
    "print \"(X,Y) multivariate normal, true correlation rho(X,Y) = \",rho\n",
    "print \"plot r_n(X,Y) = sample correlation vs n = sample size\"\n",
    "    \n",
    "#from matplotlib import pyplot\n",
    "fig = plt.figure()\n",
    "ax = plt.gca()\n",
    "plt.plot(samplesizes,r_n,\"o\")\n",
    "plt.axhline(rho)\n",
    "plt.ylim([0.42,0.58])\n",
    "ax.set_xlabel(r'$n$')\n",
    "ax.set_ylabel(r'$r_n(X,Y)$')\n",
    "\n",
    "#ax.scatter(data['o_value'] ,data['time_diff_day'] , c='blue', alpha=0.05, edgecolors='none')\n",
    "ax.set_xscale('log')    "
   ]
  },
  {
   "cell_type": "markdown",
   "metadata": {},
   "source": [
    "### III. Expected Sample Correlation $E(r_n)$ Converges to Correlation $\\rho$"
   ]
  },
  {
   "cell_type": "markdown",
   "metadata": {},
   "source": [
    "<strong> Corollary of Theorem 1. </strong>\n",
    "Under the hypothesis of Theorem 1, we have\n",
    "$$E(r_n) \\rightarrow \\rho.$$\n",
    "\n",
    "<em> Proof. </em>\n",
    "Theorem 1 gives $r_n \\to \\rho$ in probability. Since $|r_n| \\leq 1$, the dominated convergence theorem can be applied to give $E r_n \\rightarrow \\rho$. QED.\n",
    "\n",
    "We can state the conclusion $E(r_n) \\rightarrow \\rho$ by saying $r_n$ is an asymptotically unbiased estimator of $\\rho$. In general, an estimator $T_n$ of a parameter $\\theta$ is said to be asymptotically unbiased if $E (T_n) \\to \\theta$ as $n \\to \\infty$. \n",
    "\n",
    "We have defined asymptotically unbiased before defining unbiased. We rectify this now. \n",
    "\n",
    "An estimator $T_n$ of a parameter $\\theta$ is said to be unbiased if $E (T_n) = \\theta$, otherwise it is called biased. \n",
    "\n",
    "<!--It is natural to want our estimators to be unbiased.--> \n",
    "\n",
    "The sample mean is an unbiased estimator of the mean. Given $X_1,\\ldots,X_n \\sim_\\text{iid} X$, \n",
    "$$\n",
    "E\\left(\\overline{X}\\right) = E\\left( \\frac{1}{n} \\sum_{i=1}^{n} X_i \\right) = \\frac{1}{n} \\sum_{i=1}^{n} E( X_i ) = \\frac{1}{n} \\sum_{i=1}^{n} E( X ) = E(X).\n",
    "$$\n",
    "\n",
    "As we have defined it, the sample variance $S_X^2 = \\frac{1}{n-1} \\sum_{i=1}^{n} (X_i - \\overline{X})^2$ is an unbiased estimator of $\\sigma^2 = \\text{Var}(X)$. It may seem more natural to define the sample variance as $\\frac{1}{n} \\sum_{i=1}^{n} (X_i - \\overline{X})^2$, but this is not an unbiased estimator of $\\sigma^2 = \\text{Var}(X)$. The proof of these assertions is symbol pushing. \n",
    "See <a href=\"http://isites.harvard.edu/fs/docs/icb.topic515975.files/Proof%20that%20Sample%20Variance%20is%20Unbiased.pdf\">here</a>.\n",
    "\n",
    "The sample correlation $r_n$ is a biased estimator of the correlation $\\rho$. In fact, \n",
    "$$\n",
    "E(r_n) = \\rho - \\frac{\\rho(1-\\rho^2)}{2n} + \\text{O}\\left(\\frac{\\rho}{n^2}\\right). \n",
    "$$\n",
    "The proof takes some work. See, for example, the book of Stuart and Ord (1987, Section 16.32) or the orginal paper of Fisher (1915)."
   ]
  },
  {
   "cell_type": "markdown",
   "metadata": {},
   "source": [
    "### IV. Python Example 2: Expected Sample Correlation $E(r_n)$ Converges to Correlation $\\rho$"
   ]
  },
  {
   "cell_type": "code",
   "execution_count": 27,
   "metadata": {
    "collapsed": false
   },
   "outputs": [
    {
     "name": "stdout",
     "output_type": "stream",
     "text": [
      "(X,Y) multivariate normal, true correlation rho(X,Y) =  0.5\n",
      "plot E_*(r_n(X,Y)) = sample correlation vs n = sample size\n"
     ]
    },
    {
     "data": {
      "image/png": "[encoded data removed]",
      "text/plain": [
       "<matplotlib.figure.Figure at 0x10ae24ad0>"
      ]
     },
     "metadata": {},
     "output_type": "display_data"
    }
   ],
   "source": [
    "%matplotlib inline\n",
    "import matplotlib.pyplot as plt\n",
    "import numpy as np\n",
    "\n",
    "samplesizes = []\n",
    "for k in range(2,7):\n",
    "    samplesizes.append(10**k)\n",
    "    samplesizes.append(2*10**k)\n",
    "    samplesizes.append(5*10**k)\n",
    "    samplesizes.append(8*10**k)\n",
    "    \n",
    "rho = 0.5\n",
    "cov = np.array( [[1,rho],[rho,1]] )\n",
    "K = 500 #repeated sample size\n",
    "E_r_n = []  \n",
    "\n",
    "#Fix n in samplesize. \n",
    "#We generate a sample of (X,Y) of size n \n",
    "#and compute the sample correlation r_n(X,Y).\n",
    "#We do this K times for the fixed n.\n",
    "#We end up with K values for r_n(X,Y)\n",
    "#The mean of these K values is viewed \n",
    "#as the expectation of r_n(X,Y).\n",
    "#We call it E_*(r_n(X,Y))\n",
    "#It is not actually equal to E(r_n(X,Y)),\n",
    "#but it converges to E(r_n(X,Y)) as K gets large,\n",
    "#by the law of large numbers\n",
    "\n",
    "\n",
    "for n in samplesizes:\n",
    "    for k in xrange(1,K+1):\n",
    "        r_n = []\n",
    "        XY = np.random.multivariate_normal([0,0],cov,n)\n",
    "        X = XY[:,0]\n",
    "        Y = XY[:,1]\n",
    "        mean_X = np.mean(X)\n",
    "        mean_Y = np.mean(Y)\n",
    "        r_x_y = np.mean((X-mean_X)*(Y-mean_Y)) \n",
    "        / np.sqrt(np.mean((X-mean_X)**2) \n",
    "                  * np.mean((Y-mean_Y)**2)) \n",
    "        r_n.append(r_x_y)\n",
    "    E_r_n.append(np.mean(r_n))\n",
    "        \n",
    "print \"(X,Y) multivariate normal, true correlation rho(X,Y) = \",rho\n",
    "print \"plot E_*(r_n(X,Y)) = sample correlation vs n = sample size\"\n",
    "    \n",
    "#from matplotlib import pyplot\n",
    "fig = plt.figure()\n",
    "ax = plt.gca()\n",
    "plt.plot(samplesizes,E_r_n,\"o\")\n",
    "plt.axhline(rho)\n",
    "plt.ylim([0.42,0.58])\n",
    "ax.set_xlabel(r'$n$')\n",
    "ax.set_ylabel(r'$E_{*}(r_n(X,Y))$')\n",
    "\n",
    "#ax.scatter(data['o_value'] ,data['time_diff_day'] , \n",
    "#c='blue', alpha=0.05, edgecolors='none')\n",
    "ax.set_xscale('log')    "
   ]
  },
  {
   "cell_type": "markdown",
   "metadata": {},
   "source": [
    "### V. Remark on Python Example 2"
   ]
  },
  {
   "cell_type": "markdown",
   "metadata": {},
   "source": [
    "We didn't actually compute $E(r_n)$. Instead we computed $E_*(r_n)$. The explanation follows.\n",
    "\n",
    "Let the sample size $n$ be fixed. We generate a sample of $(X,Y)$ of size $n$ and compute the sample correlation $r_n(X,Y)$. We do this $K$ times for the fixed sample size $n$. We end up with $K$ values for $r_n(X,Y)$. The mean of these $K$ values is $E_*(r_n(X,Y))$. It is not actually equal to $E(r_n(X,Y))$, but it converges to $E(r_n(X,Y))$ as $K$ gets large, according to the law of large numbers. We take $K$ as large as possible such that the calcuation time is reasonable. In a later post, we will return to the problem of how large to take $K$.\n",
    "\n",
    "This is an example of Monte Carlo simulation."
   ]
  },
  {
   "cell_type": "markdown",
   "metadata": {},
   "source": [
    "### VI. Appendix: Formal Definitions"
   ]
  },
  {
   "cell_type": "markdown",
   "metadata": {},
   "source": [
    "We have used the concepts of estimators and parameters without formally defining them. This is because most users of statistics have reasonably good working defintions for these concepts. For completeness, we give formal definitions here. We also give formal definitions for a few other concepts.\n",
    "\n",
    "A random vector $X = (X_1,\\ldots,X_k)$ is a tuple whose components are random variables. \n",
    "\n",
    "Let $X$ be a random vector. \n",
    "\n",
    "If $X_1,\\ldots,X_n \\sim_{iid} X$ (that is, $X_1,\\ldots, X_n$ are independent and all have the same distribution as $X$), then we say $X_1,\\ldots,X_n$ is a random sample of $X$. An infinite sequence $(X_i)_{i=1}^{\\infty} \\sim_{iid} X$ is an infinite random sample of $X$.\n",
    "\n",
    "If $T_n = f(X_1,\\ldots,X_n)$ for some random sample $X_1,\\ldots,X_n$ of $X$ and some Borel function $f:\\mathbb{R}^n \\rightarrow \\mathbb{R}^m$, then $T_n$ is called a statistic.\n",
    "\n",
    "Let $\\mathcal{P}$ be a collection of probability distributions. Let $g:\\mathcal{P} \\rightarrow \\mathbb{R}^m$. For $P \\in \\mathcal{P}$, the value $\\theta = g(P)$ is called a parameter of the distribution $P$. If $g$ is a one-to-one function, then we write $\\Theta = g(\\mathcal{P})$ and $\\mathcal{P} = \\{P_{\\theta} : \\theta \\in \\Theta\\}$, and we call $\\Theta$ the parameter space and $\\mathcal{P}$ a parametric family. \n",
    "\n",
    "If $\\mathcal{P}$ consists of all uni-variate normal distributions, then the mean $\\mu$ and the variance $\\sigma^2$ are parameters. The pair $(\\mu,\\sigma^2)$ is also a parameter and \n",
    "$\\mathcal{P} = \\{ N(\\mu,\\sigma^2) : (\\mu,\\sigma^2) \\in \\mathbb{R} \\times (0,\\infty)\\}$\n",
    "is a parametric family.\n",
    "\n",
    "A statistic $T_n$ is called an estimator of a parameter $\\theta$ if $T_n$ approximates $\\theta$ in some sense. The concept of estimator does not have a more formal defintion."
   ]
  }
 ],
 "metadata": {
  "kernelspec": {
   "display_name": "Python 2",
   "language": "python",
   "name": "python2"
  },
  "language_info": {
   "codemirror_mode": {
    "name": "ipython",
    "version": 2
   },
   "file_extension": ".py",
   "mimetype": "text/x-python",
   "name": "python",
   "nbconvert_exporter": "python",
   "pygments_lexer": "ipython2",
   "version": "2.7.11"
  }
 },
 "nbformat": 4,
 "nbformat_minor": 0
}
